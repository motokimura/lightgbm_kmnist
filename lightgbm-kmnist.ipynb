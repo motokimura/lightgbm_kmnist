{
 "cells": [
  {
   "cell_type": "code",
   "execution_count": 1,
   "metadata": {},
   "outputs": [],
   "source": [
    "# https://www.codexa.net/lightgbm-beginner/"
   ]
  },
  {
   "cell_type": "code",
   "execution_count": 2,
   "metadata": {},
   "outputs": [],
   "source": [
    "import lightgbm as lgb\n",
    "import numpy as np\n",
    "import matplotlib.pyplot as plt\n",
    "import pandas as pd\n",
    "\n",
    "from sklearn.metrics import confusion_matrix\n",
    "from sklearn.metrics import accuracy_score\n",
    "\n",
    "%matplotlib inline"
   ]
  },
  {
   "cell_type": "code",
   "execution_count": 3,
   "metadata": {},
   "outputs": [
    {
     "name": "stdout",
     "output_type": "stream",
     "text": [
      "(10, 3)\n"
     ]
    },
    {
     "data": {
      "text/html": [
       "<div>\n",
       "<style scoped>\n",
       "    .dataframe tbody tr th:only-of-type {\n",
       "        vertical-align: middle;\n",
       "    }\n",
       "\n",
       "    .dataframe tbody tr th {\n",
       "        vertical-align: top;\n",
       "    }\n",
       "\n",
       "    .dataframe thead th {\n",
       "        text-align: right;\n",
       "    }\n",
       "</style>\n",
       "<table border=\"1\" class=\"dataframe\">\n",
       "  <thead>\n",
       "    <tr style=\"text-align: right;\">\n",
       "      <th></th>\n",
       "      <th>index</th>\n",
       "      <th>codepoint</th>\n",
       "      <th>char</th>\n",
       "    </tr>\n",
       "  </thead>\n",
       "  <tbody>\n",
       "    <tr>\n",
       "      <th>0</th>\n",
       "      <td>0</td>\n",
       "      <td>U+304A</td>\n",
       "      <td>お</td>\n",
       "    </tr>\n",
       "    <tr>\n",
       "      <th>1</th>\n",
       "      <td>1</td>\n",
       "      <td>U+304D</td>\n",
       "      <td>き</td>\n",
       "    </tr>\n",
       "    <tr>\n",
       "      <th>2</th>\n",
       "      <td>2</td>\n",
       "      <td>U+3059</td>\n",
       "      <td>す</td>\n",
       "    </tr>\n",
       "    <tr>\n",
       "      <th>3</th>\n",
       "      <td>3</td>\n",
       "      <td>U+3064</td>\n",
       "      <td>つ</td>\n",
       "    </tr>\n",
       "    <tr>\n",
       "      <th>4</th>\n",
       "      <td>4</td>\n",
       "      <td>U+306A</td>\n",
       "      <td>な</td>\n",
       "    </tr>\n",
       "    <tr>\n",
       "      <th>5</th>\n",
       "      <td>5</td>\n",
       "      <td>U+306F</td>\n",
       "      <td>は</td>\n",
       "    </tr>\n",
       "    <tr>\n",
       "      <th>6</th>\n",
       "      <td>6</td>\n",
       "      <td>U+307E</td>\n",
       "      <td>ま</td>\n",
       "    </tr>\n",
       "    <tr>\n",
       "      <th>7</th>\n",
       "      <td>7</td>\n",
       "      <td>U+3084</td>\n",
       "      <td>や</td>\n",
       "    </tr>\n",
       "    <tr>\n",
       "      <th>8</th>\n",
       "      <td>8</td>\n",
       "      <td>U+308C</td>\n",
       "      <td>れ</td>\n",
       "    </tr>\n",
       "    <tr>\n",
       "      <th>9</th>\n",
       "      <td>9</td>\n",
       "      <td>U+3092</td>\n",
       "      <td>を</td>\n",
       "    </tr>\n",
       "  </tbody>\n",
       "</table>\n",
       "</div>"
      ],
      "text/plain": [
       "   index codepoint char\n",
       "0      0    U+304A    お\n",
       "1      1    U+304D    き\n",
       "2      2    U+3059    す\n",
       "3      3    U+3064    つ\n",
       "4      4    U+306A    な\n",
       "5      5    U+306F    は\n",
       "6      6    U+307E    ま\n",
       "7      7    U+3084    や\n",
       "8      8    U+308C    れ\n",
       "9      9    U+3092    を"
      ]
     },
     "execution_count": 3,
     "metadata": {},
     "output_type": "execute_result"
    }
   ],
   "source": [
    "classes = pd.read_csv('data/kuzushiji/kmnist_classmap.csv')\n",
    "print(classes.shape)\n",
    "classes"
   ]
  },
  {
   "cell_type": "code",
   "execution_count": 4,
   "metadata": {},
   "outputs": [],
   "source": [
    "# Load train dataset\n",
    "X_train = np.load('data/kuzushiji/kmnist-train-imgs.npz')['arr_0']\n",
    "y_train = np.load('data/kuzushiji/kmnist-train-labels.npz')['arr_0']\n",
    "\n",
    "# Load test dataset\n",
    "X_test = np.load('data/kuzushiji/kmnist-test-imgs.npz')['arr_0']\n",
    "y_test = np.load('data/kuzushiji/kmnist-test-labels.npz')['arr_0']"
   ]
  },
  {
   "cell_type": "code",
   "execution_count": 5,
   "metadata": {},
   "outputs": [
    {
     "name": "stdout",
     "output_type": "stream",
     "text": [
      "(60000, 28, 28)\n",
      "(10000, 28, 28)\n"
     ]
    }
   ],
   "source": [
    "print(X_train.shape)\n",
    "print(X_test.shape)"
   ]
  },
  {
   "cell_type": "code",
   "execution_count": 6,
   "metadata": {},
   "outputs": [
    {
     "name": "stdout",
     "output_type": "stream",
     "text": [
      "[8 7 0 1 4]\n"
     ]
    },
    {
     "data": {
      "text/html": [
       "<div>\n",
       "<style scoped>\n",
       "    .dataframe tbody tr th:only-of-type {\n",
       "        vertical-align: middle;\n",
       "    }\n",
       "\n",
       "    .dataframe tbody tr th {\n",
       "        vertical-align: top;\n",
       "    }\n",
       "\n",
       "    .dataframe thead th {\n",
       "        text-align: right;\n",
       "    }\n",
       "</style>\n",
       "<table border=\"1\" class=\"dataframe\">\n",
       "  <thead>\n",
       "    <tr style=\"text-align: right;\">\n",
       "      <th></th>\n",
       "      <th>index</th>\n",
       "      <th>codepoint</th>\n",
       "      <th>char</th>\n",
       "    </tr>\n",
       "  </thead>\n",
       "  <tbody>\n",
       "    <tr>\n",
       "      <th>0</th>\n",
       "      <td>0</td>\n",
       "      <td>U+304A</td>\n",
       "      <td>お</td>\n",
       "    </tr>\n",
       "    <tr>\n",
       "      <th>1</th>\n",
       "      <td>1</td>\n",
       "      <td>U+304D</td>\n",
       "      <td>き</td>\n",
       "    </tr>\n",
       "    <tr>\n",
       "      <th>2</th>\n",
       "      <td>2</td>\n",
       "      <td>U+3059</td>\n",
       "      <td>す</td>\n",
       "    </tr>\n",
       "    <tr>\n",
       "      <th>3</th>\n",
       "      <td>3</td>\n",
       "      <td>U+3064</td>\n",
       "      <td>つ</td>\n",
       "    </tr>\n",
       "    <tr>\n",
       "      <th>4</th>\n",
       "      <td>4</td>\n",
       "      <td>U+306A</td>\n",
       "      <td>な</td>\n",
       "    </tr>\n",
       "    <tr>\n",
       "      <th>5</th>\n",
       "      <td>5</td>\n",
       "      <td>U+306F</td>\n",
       "      <td>は</td>\n",
       "    </tr>\n",
       "    <tr>\n",
       "      <th>6</th>\n",
       "      <td>6</td>\n",
       "      <td>U+307E</td>\n",
       "      <td>ま</td>\n",
       "    </tr>\n",
       "    <tr>\n",
       "      <th>7</th>\n",
       "      <td>7</td>\n",
       "      <td>U+3084</td>\n",
       "      <td>や</td>\n",
       "    </tr>\n",
       "    <tr>\n",
       "      <th>8</th>\n",
       "      <td>8</td>\n",
       "      <td>U+308C</td>\n",
       "      <td>れ</td>\n",
       "    </tr>\n",
       "    <tr>\n",
       "      <th>9</th>\n",
       "      <td>9</td>\n",
       "      <td>U+3092</td>\n",
       "      <td>を</td>\n",
       "    </tr>\n",
       "  </tbody>\n",
       "</table>\n",
       "</div>"
      ],
      "text/plain": [
       "   index codepoint char\n",
       "0      0    U+304A    お\n",
       "1      1    U+304D    き\n",
       "2      2    U+3059    す\n",
       "3      3    U+3064    つ\n",
       "4      4    U+306A    な\n",
       "5      5    U+306F    は\n",
       "6      6    U+307E    ま\n",
       "7      7    U+3084    や\n",
       "8      8    U+308C    れ\n",
       "9      9    U+3092    を"
      ]
     },
     "execution_count": 6,
     "metadata": {},
     "output_type": "execute_result"
    }
   ],
   "source": [
    "print(y_train[:5])\n",
    "classes"
   ]
  },
  {
   "cell_type": "code",
   "execution_count": 7,
   "metadata": {},
   "outputs": [
    {
     "data": {
      "text/plain": [
       "{0: 'お',\n",
       " 1: 'き',\n",
       " 2: 'す',\n",
       " 3: 'つ',\n",
       " 4: 'な',\n",
       " 5: 'は',\n",
       " 6: 'ま',\n",
       " 7: 'や',\n",
       " 8: 'れ',\n",
       " 9: 'を'}"
      ]
     },
     "execution_count": 7,
     "metadata": {},
     "output_type": "execute_result"
    }
   ],
   "source": [
    "labelindex = classes.set_index('index').to_dict()['char']\n",
    "labelindex"
   ]
  },
  {
   "cell_type": "code",
   "execution_count": 8,
   "metadata": {},
   "outputs": [
    {
     "name": "stdout",
     "output_type": "stream",
     "text": [
      "255\n",
      "0\n"
     ]
    }
   ],
   "source": [
    "print(X_train.max())\n",
    "print(X_train.min())"
   ]
  },
  {
   "cell_type": "code",
   "execution_count": 9,
   "metadata": {},
   "outputs": [
    {
     "data": {
      "image/png": "[encoded data removed]",
      "text/plain": [
       "<Figure size 432x288 with 1 Axes>"
      ]
     },
     "metadata": {
      "needs_background": "light"
     },
     "output_type": "display_data"
    }
   ],
   "source": [
    "idx = 423\n",
    "plt.imshow(X_train[idx], cmap='gray')\n",
    "plt.show()"
   ]
  },
  {
   "cell_type": "code",
   "execution_count": 10,
   "metadata": {},
   "outputs": [
    {
     "name": "stdout",
     "output_type": "stream",
     "text": [
      "1\n",
      "き\n"
     ]
    }
   ],
   "source": [
    "print(y_train[idx])\n",
    "print(labelindex[y_train[idx]])"
   ]
  },
  {
   "cell_type": "code",
   "execution_count": 11,
   "metadata": {},
   "outputs": [
    {
     "data": {
      "text/plain": [
       "array([[  0,   0, 133,  91,   7],\n",
       "       [  0,   0, 128, 128,  20],\n",
       "       [  0,   0,  95, 224,  20],\n",
       "       [  0,   0, 112, 159,  64],\n",
       "       [  0,   1, 211, 234, 253]], dtype=uint8)"
      ]
     },
     "execution_count": 11,
     "metadata": {},
     "output_type": "execute_result"
    }
   ],
   "source": [
    "X_train[0, 10:15, 10:15]"
   ]
  },
  {
   "cell_type": "code",
   "execution_count": 12,
   "metadata": {},
   "outputs": [
    {
     "data": {
      "text/plain": [
       "<matplotlib.image.AxesImage at 0x1353c5a58>"
      ]
     },
     "execution_count": 12,
     "metadata": {},
     "output_type": "execute_result"
    },
    {
     "data": {
      "image/png": "[encoded data removed]",
      "text/plain": [
       "<Figure size 432x288 with 1 Axes>"
      ]
     },
     "metadata": {
      "needs_background": "light"
     },
     "output_type": "display_data"
    }
   ],
   "source": [
    "plt.imshow(X_train[0, 10:15, 10:15], cmap='gray')"
   ]
  },
  {
   "cell_type": "code",
   "execution_count": 13,
   "metadata": {},
   "outputs": [],
   "source": [
    "# normalize train/test images\n",
    "X_train = X_train / 255.0\n",
    "X_test = X_test / 255.0"
   ]
  },
  {
   "cell_type": "code",
   "execution_count": 14,
   "metadata": {},
   "outputs": [
    {
     "data": {
      "text/plain": [
       "array([[0.        , 0.        , 0.52156863, 0.35686275, 0.02745098],\n",
       "       [0.        , 0.        , 0.50196078, 0.50196078, 0.07843137],\n",
       "       [0.        , 0.        , 0.37254902, 0.87843137, 0.07843137],\n",
       "       [0.        , 0.        , 0.43921569, 0.62352941, 0.25098039],\n",
       "       [0.        , 0.00392157, 0.82745098, 0.91764706, 0.99215686]])"
      ]
     },
     "execution_count": 14,
     "metadata": {},
     "output_type": "execute_result"
    }
   ],
   "source": [
    "X_train[0, 10:15, 10:15]"
   ]
  },
  {
   "cell_type": "code",
   "execution_count": 15,
   "metadata": {},
   "outputs": [
    {
     "name": "stdout",
     "output_type": "stream",
     "text": [
      "(60000, 28, 28)\n",
      "(10000, 28, 28)\n"
     ]
    }
   ],
   "source": [
    "print(X_train.shape)\n",
    "print(X_test.shape)"
   ]
  },
  {
   "cell_type": "code",
   "execution_count": 16,
   "metadata": {},
   "outputs": [
    {
     "name": "stdout",
     "output_type": "stream",
     "text": [
      "(60000, 784)\n",
      "(10000, 784)\n"
     ]
    }
   ],
   "source": [
    "X_train = X_train.reshape(len(X_train), -1)\n",
    "X_test = X_test.reshape(len(X_test), -1)\n",
    "\n",
    "print(X_train.shape)\n",
    "print(X_test.shape)"
   ]
  },
  {
   "cell_type": "code",
   "execution_count": 17,
   "metadata": {},
   "outputs": [
    {
     "data": {
      "text/plain": [
       "LGBMClassifier(boosting_type='gbdt', class_weight=None, colsample_bytree=1.0,\n",
       "               importance_type='split', learning_rate=0.1, max_depth=-1,\n",
       "               min_child_samples=20, min_child_weight=0.001, min_split_gain=0.0,\n",
       "               n_estimators=100, n_jobs=-1, num_leaves=31, objective=None,\n",
       "               random_state=None, reg_alpha=0.0, reg_lambda=0.0, silent=True,\n",
       "               subsample=1.0, subsample_for_bin=200000, subsample_freq=0)"
      ]
     },
     "execution_count": 17,
     "metadata": {},
     "output_type": "execute_result"
    }
   ],
   "source": [
    "lgb.LGBMClassifier()"
   ]
  },
  {
   "cell_type": "code",
   "execution_count": 18,
   "metadata": {},
   "outputs": [],
   "source": [
    "# prepare train/val dataset to train lgbm\n",
    "train_data = lgb.Dataset(X_train, label=y_train)\n",
    "val_data = lgb.Dataset(X_test, label=y_test, reference=train_data)"
   ]
  },
  {
   "cell_type": "code",
   "execution_count": 19,
   "metadata": {},
   "outputs": [],
   "source": [
    "params = {\n",
    "    'task': 'train',\n",
    "    'boosting_type': 'gbdt',\n",
    "    'objective': 'multiclass',\n",
    "    'num_class': 10,\n",
    "    'verbose': 2\n",
    "}"
   ]
  },
  {
   "cell_type": "code",
   "execution_count": 20,
   "metadata": {},
   "outputs": [
    {
     "name": "stdout",
     "output_type": "stream",
     "text": [
      "[5]\tvalid_0's multi_logloss: 1.71401\n",
      "[10]\tvalid_0's multi_logloss: 1.43197\n",
      "[15]\tvalid_0's multi_logloss: 1.2474\n",
      "[20]\tvalid_0's multi_logloss: 1.11132\n",
      "[25]\tvalid_0's multi_logloss: 1.00722\n",
      "[30]\tvalid_0's multi_logloss: 0.924201\n",
      "[35]\tvalid_0's multi_logloss: 0.856528\n",
      "[40]\tvalid_0's multi_logloss: 0.799088\n",
      "[45]\tvalid_0's multi_logloss: 0.751136\n",
      "[50]\tvalid_0's multi_logloss: 0.711042\n",
      "[55]\tvalid_0's multi_logloss: 0.675216\n",
      "[60]\tvalid_0's multi_logloss: 0.645093\n",
      "[65]\tvalid_0's multi_logloss: 0.617719\n",
      "[70]\tvalid_0's multi_logloss: 0.594623\n",
      "[75]\tvalid_0's multi_logloss: 0.573648\n",
      "[80]\tvalid_0's multi_logloss: 0.5548\n",
      "[85]\tvalid_0's multi_logloss: 0.537461\n",
      "[90]\tvalid_0's multi_logloss: 0.52171\n",
      "[95]\tvalid_0's multi_logloss: 0.508122\n",
      "[100]\tvalid_0's multi_logloss: 0.49569\n",
      "[105]\tvalid_0's multi_logloss: 0.483991\n",
      "[110]\tvalid_0's multi_logloss: 0.473352\n",
      "[115]\tvalid_0's multi_logloss: 0.463618\n",
      "[120]\tvalid_0's multi_logloss: 0.455117\n",
      "[125]\tvalid_0's multi_logloss: 0.446827\n",
      "[130]\tvalid_0's multi_logloss: 0.43899\n",
      "[135]\tvalid_0's multi_logloss: 0.431857\n",
      "[140]\tvalid_0's multi_logloss: 0.425965\n",
      "[145]\tvalid_0's multi_logloss: 0.419768\n",
      "[150]\tvalid_0's multi_logloss: 0.414155\n",
      "[155]\tvalid_0's multi_logloss: 0.409111\n",
      "[160]\tvalid_0's multi_logloss: 0.404632\n",
      "[165]\tvalid_0's multi_logloss: 0.399954\n",
      "[170]\tvalid_0's multi_logloss: 0.396175\n",
      "[175]\tvalid_0's multi_logloss: 0.392235\n",
      "[180]\tvalid_0's multi_logloss: 0.388394\n",
      "[185]\tvalid_0's multi_logloss: 0.384423\n",
      "[190]\tvalid_0's multi_logloss: 0.381403\n",
      "[195]\tvalid_0's multi_logloss: 0.378936\n",
      "[200]\tvalid_0's multi_logloss: 0.37635\n",
      "[205]\tvalid_0's multi_logloss: 0.373683\n",
      "[210]\tvalid_0's multi_logloss: 0.371067\n",
      "[215]\tvalid_0's multi_logloss: 0.368607\n",
      "[220]\tvalid_0's multi_logloss: 0.36661\n",
      "[225]\tvalid_0's multi_logloss: 0.364342\n",
      "[230]\tvalid_0's multi_logloss: 0.362805\n",
      "[235]\tvalid_0's multi_logloss: 0.361154\n",
      "[240]\tvalid_0's multi_logloss: 0.35867\n",
      "[245]\tvalid_0's multi_logloss: 0.357232\n",
      "[250]\tvalid_0's multi_logloss: 0.355421\n",
      "[255]\tvalid_0's multi_logloss: 0.354255\n",
      "[260]\tvalid_0's multi_logloss: 0.35298\n",
      "[265]\tvalid_0's multi_logloss: 0.351554\n",
      "[270]\tvalid_0's multi_logloss: 0.350055\n",
      "[275]\tvalid_0's multi_logloss: 0.349205\n",
      "[280]\tvalid_0's multi_logloss: 0.347719\n",
      "[285]\tvalid_0's multi_logloss: 0.346666\n",
      "[290]\tvalid_0's multi_logloss: 0.345752\n",
      "[295]\tvalid_0's multi_logloss: 0.344936\n",
      "[300]\tvalid_0's multi_logloss: 0.344094\n"
     ]
    }
   ],
   "source": [
    "gbm = lgb.train(\n",
    "    params,\n",
    "    train_data,\n",
    "    valid_sets=val_data,\n",
    "    num_boost_round=300,\n",
    "    verbose_eval=5,\n",
    ")"
   ]
  },
  {
   "cell_type": "code",
   "execution_count": 21,
   "metadata": {},
   "outputs": [
    {
     "name": "stdout",
     "output_type": "stream",
     "text": [
      "(10000, 10)\n"
     ]
    }
   ],
   "source": [
    "preds = gbm.predict(X_test)\n",
    "print(preds.shape)"
   ]
  },
  {
   "cell_type": "code",
   "execution_count": 22,
   "metadata": {},
   "outputs": [
    {
     "name": "stdout",
     "output_type": "stream",
     "text": [
      "(10000,)\n"
     ]
    }
   ],
   "source": [
    "y_pred = np.argmax(preds, axis=1)\n",
    "print(y_pred.shape)"
   ]
  },
  {
   "cell_type": "code",
   "execution_count": 23,
   "metadata": {},
   "outputs": [
    {
     "data": {
      "text/plain": [
       "array([[913,   3,   3,   2,  24,   8,   3,  25,  17,   2],\n",
       "       [  1, 884,  23,   2,  13,   5,  41,   6,  10,  15],\n",
       "       [  7,  10, 866,  40,  19,   4,  24,   9,  11,  10],\n",
       "       [  2,   7,  24, 947,   6,   2,   3,   3,   0,   6],\n",
       "       [ 22,  11,  16,   8, 889,   4,  18,   7,  22,   3],\n",
       "       [  6,  16,  71,   6,  12, 850,  30,   1,   5,   3],\n",
       "       [  3,   7,  32,   3,  13,   3, 931,   5,   1,   2],\n",
       "       [  7,   6,  13,   2,  42,   1,  34, 847,  31,  17],\n",
       "       [  3,  20,   7,  19,   2,   6,  16,   1, 923,   3],\n",
       "       [  8,  12,  24,   5,  28,   2,  12,  11,  15, 883]])"
      ]
     },
     "execution_count": 23,
     "metadata": {},
     "output_type": "execute_result"
    }
   ],
   "source": [
    "confusion_matrix(y_test, y_pred)"
   ]
  },
  {
   "cell_type": "code",
   "execution_count": 24,
   "metadata": {},
   "outputs": [
    {
     "data": {
      "text/plain": [
       "<matplotlib.image.AxesImage at 0x151718400>"
      ]
     },
     "execution_count": 24,
     "metadata": {},
     "output_type": "execute_result"
    },
    {
     "data": {
      "image/png": "[encoded data removed]",
      "text/plain": [
       "<Figure size 432x288 with 1 Axes>"
      ]
     },
     "metadata": {
      "needs_background": "light"
     },
     "output_type": "display_data"
    }
   ],
   "source": [
    "plt.imshow(confusion_matrix(y_test, y_pred))"
   ]
  },
  {
   "cell_type": "code",
   "execution_count": 25,
   "metadata": {},
   "outputs": [
    {
     "data": {
      "text/plain": [
       "0.8933"
      ]
     },
     "execution_count": 25,
     "metadata": {},
     "output_type": "execute_result"
    }
   ],
   "source": [
    "accuracy_score(y_test, y_pred)"
   ]
  },
  {
   "cell_type": "code",
   "execution_count": null,
   "metadata": {},
   "outputs": [],
   "source": []
  }
 ],
 "metadata": {
  "kernelspec": {
   "display_name": "Python 3",
   "language": "python",
   "name": "python3"
  },
  "language_info": {
   "codemirror_mode": {
    "name": "ipython",
    "version": 3
   },
   "file_extension": ".py",
   "mimetype": "text/x-python",
   "name": "python",
   "nbconvert_exporter": "python",
   "pygments_lexer": "ipython3",
   "version": "3.7.3"
  }
 },
 "nbformat": 4,
 "nbformat_minor": 4
}
